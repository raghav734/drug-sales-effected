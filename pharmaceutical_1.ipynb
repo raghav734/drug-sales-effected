{
  "nbformat": 4,
  "nbformat_minor": 0,
  "metadata": {
    "colab": {
      "name": "novartis_1",
      "provenance": []
    },
    "kernelspec": {
      "name": "python3",
      "display_name": "Python 3"
    },
    "accelerator": "GPU"
  },
  "cells": [
    {
      "cell_type": "code",
      "metadata": {
        "id": "RcaRCrVLeTGn",
        "colab_type": "code",
        "colab": {}
      },
      "source": [
        "import numpy as np\n",
        "import pandas as pd"
      ],
      "execution_count": 39,
      "outputs": []
    },
    {
      "cell_type": "code",
      "metadata": {
        "id": "uRn0YeiVfh0F",
        "colab_type": "code",
        "colab": {
          "base_uri": "https://localhost:8080/",
          "height": 34
        },
        "outputId": "91910139-fe47-4f7d-fd85-dc8a81621922"
      },
      "source": [
        "from google.colab import drive\n",
        "drive.mount('/content/drive')"
      ],
      "execution_count": 40,
      "outputs": [
        {
          "output_type": "stream",
          "text": [
            "Drive already mounted at /content/drive; to attempt to forcibly remount, call drive.mount(\"/content/drive\", force_remount=True).\n"
          ],
          "name": "stdout"
        }
      ]
    },
    {
      "cell_type": "code",
      "metadata": {
        "id": "lshEOBepf4LZ",
        "colab_type": "code",
        "colab": {}
      },
      "source": [
        "data=pd.read_csv('/content/drive/My Drive/Novartis_data/Train.csv')\n",
        "data1=pd.read_csv('/content/drive/My Drive/Novartis_data/Test.csv')"
      ],
      "execution_count": 41,
      "outputs": []
    },
    {
      "cell_type": "code",
      "metadata": {
        "id": "o6FYnA_ugEyo",
        "colab_type": "code",
        "colab": {
          "base_uri": "https://localhost:8080/",
          "height": 142
        },
        "outputId": "cf269134-41f8-4892-a1fe-72bda0e92221"
      },
      "source": [
        "data.head(3)"
      ],
      "execution_count": 42,
      "outputs": [
        {
          "output_type": "execute_result",
          "data": {
            "text/html": [
              "<div>\n",
              "<style scoped>\n",
              "    .dataframe tbody tr th:only-of-type {\n",
              "        vertical-align: middle;\n",
              "    }\n",
              "\n",
              "    .dataframe tbody tr th {\n",
              "        vertical-align: top;\n",
              "    }\n",
              "\n",
              "    .dataframe thead th {\n",
              "        text-align: right;\n",
              "    }\n",
              "</style>\n",
              "<table border=\"1\" class=\"dataframe\">\n",
              "  <thead>\n",
              "    <tr style=\"text-align: right;\">\n",
              "      <th></th>\n",
              "      <th>INCIDENT_ID</th>\n",
              "      <th>DATE</th>\n",
              "      <th>X_1</th>\n",
              "      <th>X_2</th>\n",
              "      <th>X_3</th>\n",
              "      <th>X_4</th>\n",
              "      <th>X_5</th>\n",
              "      <th>X_6</th>\n",
              "      <th>X_7</th>\n",
              "      <th>X_8</th>\n",
              "      <th>X_9</th>\n",
              "      <th>X_10</th>\n",
              "      <th>X_11</th>\n",
              "      <th>X_12</th>\n",
              "      <th>X_13</th>\n",
              "      <th>X_14</th>\n",
              "      <th>X_15</th>\n",
              "      <th>MULTIPLE_OFFENSE</th>\n",
              "    </tr>\n",
              "  </thead>\n",
              "  <tbody>\n",
              "    <tr>\n",
              "      <th>0</th>\n",
              "      <td>CR_102659</td>\n",
              "      <td>04-JUL-04</td>\n",
              "      <td>0</td>\n",
              "      <td>36</td>\n",
              "      <td>34</td>\n",
              "      <td>2</td>\n",
              "      <td>1</td>\n",
              "      <td>5</td>\n",
              "      <td>6</td>\n",
              "      <td>1</td>\n",
              "      <td>6</td>\n",
              "      <td>1</td>\n",
              "      <td>174</td>\n",
              "      <td>1.0</td>\n",
              "      <td>92</td>\n",
              "      <td>29</td>\n",
              "      <td>36</td>\n",
              "      <td>0</td>\n",
              "    </tr>\n",
              "    <tr>\n",
              "      <th>1</th>\n",
              "      <td>CR_189752</td>\n",
              "      <td>18-JUL-17</td>\n",
              "      <td>1</td>\n",
              "      <td>37</td>\n",
              "      <td>37</td>\n",
              "      <td>0</td>\n",
              "      <td>0</td>\n",
              "      <td>11</td>\n",
              "      <td>17</td>\n",
              "      <td>1</td>\n",
              "      <td>6</td>\n",
              "      <td>1</td>\n",
              "      <td>236</td>\n",
              "      <td>1.0</td>\n",
              "      <td>103</td>\n",
              "      <td>142</td>\n",
              "      <td>34</td>\n",
              "      <td>1</td>\n",
              "    </tr>\n",
              "    <tr>\n",
              "      <th>2</th>\n",
              "      <td>CR_184637</td>\n",
              "      <td>15-MAR-17</td>\n",
              "      <td>0</td>\n",
              "      <td>3</td>\n",
              "      <td>2</td>\n",
              "      <td>3</td>\n",
              "      <td>5</td>\n",
              "      <td>1</td>\n",
              "      <td>0</td>\n",
              "      <td>2</td>\n",
              "      <td>3</td>\n",
              "      <td>1</td>\n",
              "      <td>174</td>\n",
              "      <td>1.0</td>\n",
              "      <td>110</td>\n",
              "      <td>93</td>\n",
              "      <td>34</td>\n",
              "      <td>1</td>\n",
              "    </tr>\n",
              "  </tbody>\n",
              "</table>\n",
              "</div>"
            ],
            "text/plain": [
              "  INCIDENT_ID       DATE  X_1  X_2  ...  X_13  X_14  X_15  MULTIPLE_OFFENSE\n",
              "0   CR_102659  04-JUL-04    0   36  ...    92    29    36                 0\n",
              "1   CR_189752  18-JUL-17    1   37  ...   103   142    34                 1\n",
              "2   CR_184637  15-MAR-17    0    3  ...   110    93    34                 1\n",
              "\n",
              "[3 rows x 18 columns]"
            ]
          },
          "metadata": {
            "tags": []
          },
          "execution_count": 42
        }
      ]
    },
    {
      "cell_type": "code",
      "metadata": {
        "id": "TGirBBFXgJ4x",
        "colab_type": "code",
        "colab": {
          "base_uri": "https://localhost:8080/",
          "height": 142
        },
        "outputId": "c683480b-e065-42c4-cee4-15e3803c7b33"
      },
      "source": [
        "data1.head(3)"
      ],
      "execution_count": 43,
      "outputs": [
        {
          "output_type": "execute_result",
          "data": {
            "text/html": [
              "<div>\n",
              "<style scoped>\n",
              "    .dataframe tbody tr th:only-of-type {\n",
              "        vertical-align: middle;\n",
              "    }\n",
              "\n",
              "    .dataframe tbody tr th {\n",
              "        vertical-align: top;\n",
              "    }\n",
              "\n",
              "    .dataframe thead th {\n",
              "        text-align: right;\n",
              "    }\n",
              "</style>\n",
              "<table border=\"1\" class=\"dataframe\">\n",
              "  <thead>\n",
              "    <tr style=\"text-align: right;\">\n",
              "      <th></th>\n",
              "      <th>INCIDENT_ID</th>\n",
              "      <th>DATE</th>\n",
              "      <th>X_1</th>\n",
              "      <th>X_2</th>\n",
              "      <th>X_3</th>\n",
              "      <th>X_4</th>\n",
              "      <th>X_5</th>\n",
              "      <th>X_6</th>\n",
              "      <th>X_7</th>\n",
              "      <th>X_8</th>\n",
              "      <th>X_9</th>\n",
              "      <th>X_10</th>\n",
              "      <th>X_11</th>\n",
              "      <th>X_12</th>\n",
              "      <th>X_13</th>\n",
              "      <th>X_14</th>\n",
              "      <th>X_15</th>\n",
              "    </tr>\n",
              "  </thead>\n",
              "  <tbody>\n",
              "    <tr>\n",
              "      <th>0</th>\n",
              "      <td>CR_195453</td>\n",
              "      <td>01-FEB-18</td>\n",
              "      <td>0</td>\n",
              "      <td>30</td>\n",
              "      <td>35</td>\n",
              "      <td>7</td>\n",
              "      <td>3</td>\n",
              "      <td>6</td>\n",
              "      <td>4</td>\n",
              "      <td>0</td>\n",
              "      <td>5</td>\n",
              "      <td>1</td>\n",
              "      <td>174</td>\n",
              "      <td>NaN</td>\n",
              "      <td>72</td>\n",
              "      <td>119</td>\n",
              "      <td>23</td>\n",
              "    </tr>\n",
              "    <tr>\n",
              "      <th>1</th>\n",
              "      <td>CR_103520</td>\n",
              "      <td>05-MAR-04</td>\n",
              "      <td>0</td>\n",
              "      <td>44</td>\n",
              "      <td>44</td>\n",
              "      <td>1</td>\n",
              "      <td>3</td>\n",
              "      <td>7</td>\n",
              "      <td>1</td>\n",
              "      <td>4</td>\n",
              "      <td>6</td>\n",
              "      <td>1</td>\n",
              "      <td>316</td>\n",
              "      <td>0.0</td>\n",
              "      <td>12</td>\n",
              "      <td>29</td>\n",
              "      <td>34</td>\n",
              "    </tr>\n",
              "    <tr>\n",
              "      <th>2</th>\n",
              "      <td>CR_196089</td>\n",
              "      <td>27-JAN-18</td>\n",
              "      <td>0</td>\n",
              "      <td>34</td>\n",
              "      <td>33</td>\n",
              "      <td>3</td>\n",
              "      <td>5</td>\n",
              "      <td>2</td>\n",
              "      <td>7</td>\n",
              "      <td>3</td>\n",
              "      <td>0</td>\n",
              "      <td>1</td>\n",
              "      <td>316</td>\n",
              "      <td>1.0</td>\n",
              "      <td>72</td>\n",
              "      <td>0</td>\n",
              "      <td>34</td>\n",
              "    </tr>\n",
              "  </tbody>\n",
              "</table>\n",
              "</div>"
            ],
            "text/plain": [
              "  INCIDENT_ID       DATE  X_1  X_2  X_3  ...  X_11  X_12  X_13  X_14  X_15\n",
              "0   CR_195453  01-FEB-18    0   30   35  ...   174   NaN    72   119    23\n",
              "1   CR_103520  05-MAR-04    0   44   44  ...   316   0.0    12    29    34\n",
              "2   CR_196089  27-JAN-18    0   34   33  ...   316   1.0    72     0    34\n",
              "\n",
              "[3 rows x 17 columns]"
            ]
          },
          "metadata": {
            "tags": []
          },
          "execution_count": 43
        }
      ]
    },
    {
      "cell_type": "code",
      "metadata": {
        "id": "jzsRbffggWHh",
        "colab_type": "code",
        "colab": {
          "base_uri": "https://localhost:8080/",
          "height": 348
        },
        "outputId": "772d4e56-f0c9-48c8-b630-75cb29ff3375"
      },
      "source": [
        "import seaborn as sns\n",
        "print(data.MULTIPLE_OFFENSE.value_counts())\n",
        "sns.countplot(x='MULTIPLE_OFFENSE',data=data)"
      ],
      "execution_count": 44,
      "outputs": [
        {
          "output_type": "stream",
          "text": [
            "1    22788\n",
            "0     1068\n",
            "Name: MULTIPLE_OFFENSE, dtype: int64\n"
          ],
          "name": "stdout"
        },
        {
          "output_type": "execute_result",
          "data": {
            "text/plain": [
              "<matplotlib.axes._subplots.AxesSubplot at 0x7f8e9d338d30>"
            ]
          },
          "metadata": {
            "tags": []
          },
          "execution_count": 44
        },
        {
          "output_type": "display_data",
          "data": {
            "image/png": "[encoded data removed]",
            "text/plain": [
              "<Figure size 432x288 with 1 Axes>"
            ]
          },
          "metadata": {
            "tags": [],
            "needs_background": "light"
          }
        }
      ]
    },
    {
      "cell_type": "code",
      "metadata": {
        "id": "7P48llVAhDA4",
        "colab_type": "code",
        "colab": {
          "base_uri": "https://localhost:8080/",
          "height": 340
        },
        "outputId": "748b77e9-dc80-4758-b5e8-40bdc7145281"
      },
      "source": [
        "data.isnull().sum()"
      ],
      "execution_count": 45,
      "outputs": [
        {
          "output_type": "execute_result",
          "data": {
            "text/plain": [
              "INCIDENT_ID           0\n",
              "DATE                  0\n",
              "X_1                   0\n",
              "X_2                   0\n",
              "X_3                   0\n",
              "X_4                   0\n",
              "X_5                   0\n",
              "X_6                   0\n",
              "X_7                   0\n",
              "X_8                   0\n",
              "X_9                   0\n",
              "X_10                  0\n",
              "X_11                  0\n",
              "X_12                182\n",
              "X_13                  0\n",
              "X_14                  0\n",
              "X_15                  0\n",
              "MULTIPLE_OFFENSE      0\n",
              "dtype: int64"
            ]
          },
          "metadata": {
            "tags": []
          },
          "execution_count": 45
        }
      ]
    },
    {
      "cell_type": "code",
      "metadata": {
        "id": "71BSjGnAhL2W",
        "colab_type": "code",
        "colab": {
          "base_uri": "https://localhost:8080/",
          "height": 323
        },
        "outputId": "ee08f358-81fe-4ab0-b647-44559adb961e"
      },
      "source": [
        "data1.isnull().sum()"
      ],
      "execution_count": 46,
      "outputs": [
        {
          "output_type": "execute_result",
          "data": {
            "text/plain": [
              "INCIDENT_ID      0\n",
              "DATE             0\n",
              "X_1              0\n",
              "X_2              0\n",
              "X_3              0\n",
              "X_4              0\n",
              "X_5              0\n",
              "X_6              0\n",
              "X_7              0\n",
              "X_8              0\n",
              "X_9              0\n",
              "X_10             0\n",
              "X_11             0\n",
              "X_12           127\n",
              "X_13             0\n",
              "X_14             0\n",
              "X_15             0\n",
              "dtype: int64"
            ]
          },
          "metadata": {
            "tags": []
          },
          "execution_count": 46
        }
      ]
    },
    {
      "cell_type": "code",
      "metadata": {
        "id": "8zHmqQaohc-o",
        "colab_type": "code",
        "colab": {
          "base_uri": "https://localhost:8080/",
          "height": 340
        },
        "outputId": "78dad127-e3c7-457f-ce2b-c5238c75e207"
      },
      "source": [
        "print(data.dtypes)"
      ],
      "execution_count": 47,
      "outputs": [
        {
          "output_type": "stream",
          "text": [
            "INCIDENT_ID          object\n",
            "DATE                 object\n",
            "X_1                   int64\n",
            "X_2                   int64\n",
            "X_3                   int64\n",
            "X_4                   int64\n",
            "X_5                   int64\n",
            "X_6                   int64\n",
            "X_7                   int64\n",
            "X_8                   int64\n",
            "X_9                   int64\n",
            "X_10                  int64\n",
            "X_11                  int64\n",
            "X_12                float64\n",
            "X_13                  int64\n",
            "X_14                  int64\n",
            "X_15                  int64\n",
            "MULTIPLE_OFFENSE      int64\n",
            "dtype: object\n"
          ],
          "name": "stdout"
        }
      ]
    },
    {
      "cell_type": "code",
      "metadata": {
        "id": "-W3fJYVyjzYD",
        "colab_type": "code",
        "colab": {
          "base_uri": "https://localhost:8080/",
          "height": 425
        },
        "outputId": "64a87046-6788-47d4-f190-95d120f7e76d"
      },
      "source": [
        "print(data.X_12.value_counts())\n"
      ],
      "execution_count": 48,
      "outputs": [
        {
          "output_type": "stream",
          "text": [
            "1.0     15674\n",
            "0.0      5171\n",
            "2.0      2039\n",
            "3.0       476\n",
            "4.0       176\n",
            "5.0        59\n",
            "6.0        36\n",
            "8.0         9\n",
            "10.0        7\n",
            "9.0         6\n",
            "7.0         4\n",
            "11.0        4\n",
            "15.0        2\n",
            "20.0        2\n",
            "17.0        1\n",
            "58.0        1\n",
            "50.0        1\n",
            "40.0        1\n",
            "16.0        1\n",
            "90.0        1\n",
            "12.0        1\n",
            "30.0        1\n",
            "14.0        1\n",
            "Name: X_12, dtype: int64\n"
          ],
          "name": "stdout"
        }
      ]
    },
    {
      "cell_type": "code",
      "metadata": {
        "id": "SPJ87I5IkDPH",
        "colab_type": "code",
        "colab": {}
      },
      "source": [
        "data[\"X_12\"].fillna(1, inplace = True)\n",
        "data1[\"X_12\"].fillna(1, inplace = True)\n",
        "\n"
      ],
      "execution_count": 49,
      "outputs": []
    },
    {
      "cell_type": "code",
      "metadata": {
        "id": "CicKmLz5kPKd",
        "colab_type": "code",
        "colab": {
          "base_uri": "https://localhost:8080/",
          "height": 340
        },
        "outputId": "65cfc137-fbf4-4783-c5dc-cafaf4abff69"
      },
      "source": [
        "data.isnull().sum()"
      ],
      "execution_count": 50,
      "outputs": [
        {
          "output_type": "execute_result",
          "data": {
            "text/plain": [
              "INCIDENT_ID         0\n",
              "DATE                0\n",
              "X_1                 0\n",
              "X_2                 0\n",
              "X_3                 0\n",
              "X_4                 0\n",
              "X_5                 0\n",
              "X_6                 0\n",
              "X_7                 0\n",
              "X_8                 0\n",
              "X_9                 0\n",
              "X_10                0\n",
              "X_11                0\n",
              "X_12                0\n",
              "X_13                0\n",
              "X_14                0\n",
              "X_15                0\n",
              "MULTIPLE_OFFENSE    0\n",
              "dtype: int64"
            ]
          },
          "metadata": {
            "tags": []
          },
          "execution_count": 50
        }
      ]
    },
    {
      "cell_type": "code",
      "metadata": {
        "id": "HR2Sga-rk_SH",
        "colab_type": "code",
        "colab": {}
      },
      "source": [
        "# Defining Categorical Features\n",
        "categorical_feature= [\"INCIDENT_ID\", \"DATE \", ]\n",
        "\n",
        "# Defining Continuous Features\n",
        "continuous_features = [\"X_1\", \"X_2\", \"X_3\", \"X_4\", \"X_5\", \"X_6\", \"X_7\", \"X_8\",\"X_9\",\"X_10\",\"X_11\",\"X_12\",\"X_13\",\"X_14\",\"X_15\"]"
      ],
      "execution_count": 51,
      "outputs": []
    },
    {
      "cell_type": "code",
      "metadata": {
        "id": "f7syy6bQmXIO",
        "colab_type": "code",
        "colab": {
          "base_uri": "https://localhost:8080/",
          "height": 179
        },
        "outputId": "71e29a77-4f1d-4474-ee2b-84e153886780"
      },
      "source": [
        "from sklearn.preprocessing import MinMaxScaler\n",
        "# Using MinMaxScaler to Tranform data\n",
        "s_sc = MinMaxScaler()\n",
        "\n",
        "# Transform data of Continuous Features\n",
        "data[continuous_features] = s_sc.fit_transform(data[continuous_features])\n",
        "\n",
        "# Show head after converting\n",
        "data.head(2)"
      ],
      "execution_count": 52,
      "outputs": [
        {
          "output_type": "execute_result",
          "data": {
            "text/html": [
              "<div>\n",
              "<style scoped>\n",
              "    .dataframe tbody tr th:only-of-type {\n",
              "        vertical-align: middle;\n",
              "    }\n",
              "\n",
              "    .dataframe tbody tr th {\n",
              "        vertical-align: top;\n",
              "    }\n",
              "\n",
              "    .dataframe thead th {\n",
              "        text-align: right;\n",
              "    }\n",
              "</style>\n",
              "<table border=\"1\" class=\"dataframe\">\n",
              "  <thead>\n",
              "    <tr style=\"text-align: right;\">\n",
              "      <th></th>\n",
              "      <th>INCIDENT_ID</th>\n",
              "      <th>DATE</th>\n",
              "      <th>X_1</th>\n",
              "      <th>X_2</th>\n",
              "      <th>X_3</th>\n",
              "      <th>X_4</th>\n",
              "      <th>X_5</th>\n",
              "      <th>X_6</th>\n",
              "      <th>X_7</th>\n",
              "      <th>X_8</th>\n",
              "      <th>X_9</th>\n",
              "      <th>X_10</th>\n",
              "      <th>X_11</th>\n",
              "      <th>X_12</th>\n",
              "      <th>X_13</th>\n",
              "      <th>X_14</th>\n",
              "      <th>X_15</th>\n",
              "      <th>MULTIPLE_OFFENSE</th>\n",
              "    </tr>\n",
              "  </thead>\n",
              "  <tbody>\n",
              "    <tr>\n",
              "      <th>0</th>\n",
              "      <td>CR_102659</td>\n",
              "      <td>04-JUL-04</td>\n",
              "      <td>0.000000</td>\n",
              "      <td>0.692308</td>\n",
              "      <td>0.653846</td>\n",
              "      <td>0.2</td>\n",
              "      <td>0.2</td>\n",
              "      <td>0.222222</td>\n",
              "      <td>0.333333</td>\n",
              "      <td>0.010101</td>\n",
              "      <td>1.0</td>\n",
              "      <td>0.0</td>\n",
              "      <td>0.524096</td>\n",
              "      <td>0.011111</td>\n",
              "      <td>0.793103</td>\n",
              "      <td>0.204225</td>\n",
              "      <td>0.72</td>\n",
              "      <td>0</td>\n",
              "    </tr>\n",
              "    <tr>\n",
              "      <th>1</th>\n",
              "      <td>CR_189752</td>\n",
              "      <td>18-JUL-17</td>\n",
              "      <td>0.142857</td>\n",
              "      <td>0.711538</td>\n",
              "      <td>0.711538</td>\n",
              "      <td>0.0</td>\n",
              "      <td>0.0</td>\n",
              "      <td>0.555556</td>\n",
              "      <td>0.944444</td>\n",
              "      <td>0.010101</td>\n",
              "      <td>1.0</td>\n",
              "      <td>0.0</td>\n",
              "      <td>0.710843</td>\n",
              "      <td>0.011111</td>\n",
              "      <td>0.887931</td>\n",
              "      <td>1.000000</td>\n",
              "      <td>0.68</td>\n",
              "      <td>1</td>\n",
              "    </tr>\n",
              "  </tbody>\n",
              "</table>\n",
              "</div>"
            ],
            "text/plain": [
              "  INCIDENT_ID       DATE       X_1  ...      X_14  X_15  MULTIPLE_OFFENSE\n",
              "0   CR_102659  04-JUL-04  0.000000  ...  0.204225  0.72                 0\n",
              "1   CR_189752  18-JUL-17  0.142857  ...  1.000000  0.68                 1\n",
              "\n",
              "[2 rows x 18 columns]"
            ]
          },
          "metadata": {
            "tags": []
          },
          "execution_count": 52
        }
      ]
    },
    {
      "cell_type": "code",
      "metadata": {
        "id": "iTkf3DeUmlk9",
        "colab_type": "code",
        "colab": {
          "base_uri": "https://localhost:8080/",
          "height": 501
        },
        "outputId": "aa43f5c8-bdcb-43df-c1c5-45080afc3c82"
      },
      "source": [
        "from matplotlib import pyplot as plt\n",
        "fig = plt.subplots(figsize=(15, 8))\n",
        "ax = sns.boxplot(data = data[continuous_features], orient=\"h\", fliersize=2)\n",
        "ax.set_title(\"After Min-Max Standardization\", color='DarkRed', fontsize=15)\n",
        "    \n",
        "# Display the plot\n",
        "plt.savefig('data_BoxPlotAll.png')\n",
        "plt.show()"
      ],
      "execution_count": 53,
      "outputs": [
        {
          "output_type": "display_data",
          "data": {
            "image/png": "[encoded data removed]",
            "text/plain": [
              "<Figure size 1080x576 with 1 Axes>"
            ]
          },
          "metadata": {
            "tags": [],
            "needs_background": "light"
          }
        }
      ]
    },
    {
      "cell_type": "code",
      "metadata": {
        "id": "zFk6qAf_nU6m",
        "colab_type": "code",
        "colab": {
          "base_uri": "https://localhost:8080/",
          "height": 518
        },
        "outputId": "8b3a5c9c-e5aa-421f-8c7e-dcf447f4e614"
      },
      "source": [
        "# Let's make our correlation matrix a little prettier\n",
        "\n",
        "# Get Correlation Matrix for Continuous Features only using pearson method \n",
        "corr_matrix = data[continuous_features].corr(method ='pearson')\n",
        "\n",
        "# Set no. of rows and column for sub plots\n",
        "fig, ax = plt.subplots(figsize=(12, 8))\n",
        "\n",
        "# Pass corr_matrix to heamap to draw and set the parameters\n",
        "ax = sns.heatmap(corr_matrix, annot=True, linewidths=0.5, fmt=\".2f\", cmap=\"YlGnBu\")\n",
        "bottom, top = ax.get_ylim()\n",
        "ax.set_yticklabels(ax.get_yticklabels(), rotation=0)\n",
        "ax.set_xticklabels(ax.get_xticklabels(), rotation=90)\n",
        "\n",
        "# Display the plot\n",
        "ax.set_ylim(bottom + 0.5, top - 0.5)"
      ],
      "execution_count": 54,
      "outputs": [
        {
          "output_type": "execute_result",
          "data": {
            "text/plain": [
              "(15.5, -0.5)"
            ]
          },
          "metadata": {
            "tags": []
          },
          "execution_count": 54
        },
        {
          "output_type": "display_data",
          "data": {
            "image/png": "[encoded data removed]",
            "text/plain": [
              "<Figure size 864x576 with 2 Axes>"
            ]
          },
          "metadata": {
            "tags": [],
            "needs_background": "light"
          }
        }
      ]
    },
    {
      "cell_type": "code",
      "metadata": {
        "id": "cPT9NY3TniBU",
        "colab_type": "code",
        "colab": {
          "base_uri": "https://localhost:8080/",
          "height": 572
        },
        "outputId": "2a98a364-f2f9-4551-9933-64260de93ddb"
      },
      "source": [
        "import statsmodels.api as sm\n",
        "cols = data.columns[:-1]\n",
        "model = sm.Logit(data.MULTIPLE_OFFENSE, data[continuous_features])\n",
        "result = model.fit()\n",
        "result.summary()"
      ],
      "execution_count": 55,
      "outputs": [
        {
          "output_type": "stream",
          "text": [
            "Optimization terminated successfully.\n",
            "         Current function value: 0.150377\n",
            "         Iterations 8\n"
          ],
          "name": "stdout"
        },
        {
          "output_type": "execute_result",
          "data": {
            "text/html": [
              "<table class=\"simpletable\">\n",
              "<caption>Logit Regression Results</caption>\n",
              "<tr>\n",
              "  <th>Dep. Variable:</th>   <td>MULTIPLE_OFFENSE</td> <th>  No. Observations:  </th>  <td> 23856</td> \n",
              "</tr>\n",
              "<tr>\n",
              "  <th>Model:</th>                 <td>Logit</td>      <th>  Df Residuals:      </th>  <td> 23841</td> \n",
              "</tr>\n",
              "<tr>\n",
              "  <th>Method:</th>                 <td>MLE</td>       <th>  Df Model:          </th>  <td>    14</td> \n",
              "</tr>\n",
              "<tr>\n",
              "  <th>Date:</th>            <td>Thu, 18 Jun 2020</td> <th>  Pseudo R-squ.:     </th>  <td>0.1774</td> \n",
              "</tr>\n",
              "<tr>\n",
              "  <th>Time:</th>                <td>17:18:58</td>     <th>  Log-Likelihood:    </th> <td> -3587.4</td>\n",
              "</tr>\n",
              "<tr>\n",
              "  <th>converged:</th>             <td>True</td>       <th>  LL-Null:           </th> <td> -4361.2</td>\n",
              "</tr>\n",
              "<tr>\n",
              "  <th>Covariance Type:</th>     <td>nonrobust</td>    <th>  LLR p-value:       </th>  <td> 0.000</td> \n",
              "</tr>\n",
              "</table>\n",
              "<table class=\"simpletable\">\n",
              "<tr>\n",
              "    <td></td>      <th>coef</th>     <th>std err</th>      <th>z</th>      <th>P>|z|</th>  <th>[0.025</th>    <th>0.975]</th>  \n",
              "</tr>\n",
              "<tr>\n",
              "  <th>X_1</th>  <td>    0.7730</td> <td>    0.235</td> <td>    3.284</td> <td> 0.001</td> <td>    0.312</td> <td>    1.234</td>\n",
              "</tr>\n",
              "<tr>\n",
              "  <th>X_2</th>  <td>   -2.9787</td> <td>    1.648</td> <td>   -1.808</td> <td> 0.071</td> <td>   -6.208</td> <td>    0.251</td>\n",
              "</tr>\n",
              "<tr>\n",
              "  <th>X_3</th>  <td>    2.9613</td> <td>    1.665</td> <td>    1.778</td> <td> 0.075</td> <td>   -0.302</td> <td>    6.225</td>\n",
              "</tr>\n",
              "<tr>\n",
              "  <th>X_4</th>  <td>    0.2226</td> <td>    0.140</td> <td>    1.587</td> <td> 0.112</td> <td>   -0.052</td> <td>    0.497</td>\n",
              "</tr>\n",
              "<tr>\n",
              "  <th>X_5</th>  <td>    0.0871</td> <td>    0.104</td> <td>    0.837</td> <td> 0.402</td> <td>   -0.117</td> <td>    0.291</td>\n",
              "</tr>\n",
              "<tr>\n",
              "  <th>X_6</th>  <td>    0.3476</td> <td>    0.199</td> <td>    1.743</td> <td> 0.081</td> <td>   -0.043</td> <td>    0.739</td>\n",
              "</tr>\n",
              "<tr>\n",
              "  <th>X_7</th>  <td>   -0.2999</td> <td>    0.227</td> <td>   -1.321</td> <td> 0.187</td> <td>   -0.745</td> <td>    0.145</td>\n",
              "</tr>\n",
              "<tr>\n",
              "  <th>X_8</th>  <td>    0.5628</td> <td>    2.433</td> <td>    0.231</td> <td> 0.817</td> <td>   -4.205</td> <td>    5.331</td>\n",
              "</tr>\n",
              "<tr>\n",
              "  <th>X_9</th>  <td>    0.7776</td> <td>    0.123</td> <td>    6.323</td> <td> 0.000</td> <td>    0.537</td> <td>    1.019</td>\n",
              "</tr>\n",
              "<tr>\n",
              "  <th>X_10</th> <td> -154.8683</td> <td>    5.076</td> <td>  -30.513</td> <td> 0.000</td> <td> -164.816</td> <td> -144.920</td>\n",
              "</tr>\n",
              "<tr>\n",
              "  <th>X_11</th> <td>    1.6623</td> <td>    0.114</td> <td>   14.635</td> <td> 0.000</td> <td>    1.440</td> <td>    1.885</td>\n",
              "</tr>\n",
              "<tr>\n",
              "  <th>X_12</th> <td>   96.5326</td> <td>    4.630</td> <td>   20.849</td> <td> 0.000</td> <td>   87.458</td> <td>  105.607</td>\n",
              "</tr>\n",
              "<tr>\n",
              "  <th>X_13</th> <td>    0.3683</td> <td>    0.121</td> <td>    3.050</td> <td> 0.002</td> <td>    0.132</td> <td>    0.605</td>\n",
              "</tr>\n",
              "<tr>\n",
              "  <th>X_14</th> <td>    0.2492</td> <td>    0.104</td> <td>    2.401</td> <td> 0.016</td> <td>    0.046</td> <td>    0.453</td>\n",
              "</tr>\n",
              "<tr>\n",
              "  <th>X_15</th> <td>    0.9628</td> <td>    0.128</td> <td>    7.542</td> <td> 0.000</td> <td>    0.713</td> <td>    1.213</td>\n",
              "</tr>\n",
              "</table>"
            ],
            "text/plain": [
              "<class 'statsmodels.iolib.summary.Summary'>\n",
              "\"\"\"\n",
              "                           Logit Regression Results                           \n",
              "==============================================================================\n",
              "Dep. Variable:       MULTIPLE_OFFENSE   No. Observations:                23856\n",
              "Model:                          Logit   Df Residuals:                    23841\n",
              "Method:                           MLE   Df Model:                           14\n",
              "Date:                Thu, 18 Jun 2020   Pseudo R-squ.:                  0.1774\n",
              "Time:                        17:18:58   Log-Likelihood:                -3587.4\n",
              "converged:                       True   LL-Null:                       -4361.2\n",
              "Covariance Type:            nonrobust   LLR p-value:                     0.000\n",
              "==============================================================================\n",
              "                 coef    std err          z      P>|z|      [0.025      0.975]\n",
              "------------------------------------------------------------------------------\n",
              "X_1            0.7730      0.235      3.284      0.001       0.312       1.234\n",
              "X_2           -2.9787      1.648     -1.808      0.071      -6.208       0.251\n",
              "X_3            2.9613      1.665      1.778      0.075      -0.302       6.225\n",
              "X_4            0.2226      0.140      1.587      0.112      -0.052       0.497\n",
              "X_5            0.0871      0.104      0.837      0.402      -0.117       0.291\n",
              "X_6            0.3476      0.199      1.743      0.081      -0.043       0.739\n",
              "X_7           -0.2999      0.227     -1.321      0.187      -0.745       0.145\n",
              "X_8            0.5628      2.433      0.231      0.817      -4.205       5.331\n",
              "X_9            0.7776      0.123      6.323      0.000       0.537       1.019\n",
              "X_10        -154.8683      5.076    -30.513      0.000    -164.816    -144.920\n",
              "X_11           1.6623      0.114     14.635      0.000       1.440       1.885\n",
              "X_12          96.5326      4.630     20.849      0.000      87.458     105.607\n",
              "X_13           0.3683      0.121      3.050      0.002       0.132       0.605\n",
              "X_14           0.2492      0.104      2.401      0.016       0.046       0.453\n",
              "X_15           0.9628      0.128      7.542      0.000       0.713       1.213\n",
              "==============================================================================\n",
              "\"\"\""
            ]
          },
          "metadata": {
            "tags": []
          },
          "execution_count": 55
        }
      ]
    },
    {
      "cell_type": "code",
      "metadata": {
        "id": "1ALDiR5KlfR4",
        "colab_type": "code",
        "colab": {}
      },
      "source": [
        "def back_feature_elem (data_frame, dep_var, col_list):\n",
        "    \"\"\" Takes in the dataframe, the dependent variable and a list of column names, runs the\n",
        "    regression repeatedly eleminating feature with the highest P-value above alpha one at a\n",
        "    time and returns the regression summary with all p-values below alpha\"\"\"\n",
        "\n",
        "    while len(col_list)>0 :\n",
        "        model = sm.Logit(dep_var,data_frame[col_list])\n",
        "        result = model.fit(disp=0)\n",
        "        largest_pvalue = round(result.pvalues,3).nlargest(1)\n",
        "        if largest_pvalue[0] < (0.05):\n",
        "            return result\n",
        "            break\n",
        "        else:\n",
        "            col_list = col_list.remove(largest_pvalue.index)\n",
        "            return result"
      ],
      "execution_count": 56,
      "outputs": []
    },
    {
      "cell_type": "code",
      "metadata": {
        "id": "PmhQsQwHmIXZ",
        "colab_type": "code",
        "colab": {
          "base_uri": "https://localhost:8080/",
          "height": 521
        },
        "outputId": "5635ffc7-bf77-4500-ee46-1814723665f8"
      },
      "source": [
        "result = back_feature_elem(data, data.MULTIPLE_OFFENSE, continuous_features)\n",
        "result.summary()"
      ],
      "execution_count": 57,
      "outputs": [
        {
          "output_type": "execute_result",
          "data": {
            "text/html": [
              "<table class=\"simpletable\">\n",
              "<caption>Logit Regression Results</caption>\n",
              "<tr>\n",
              "  <th>Dep. Variable:</th>   <td>MULTIPLE_OFFENSE</td> <th>  No. Observations:  </th>  <td> 23856</td> \n",
              "</tr>\n",
              "<tr>\n",
              "  <th>Model:</th>                 <td>Logit</td>      <th>  Df Residuals:      </th>  <td> 23841</td> \n",
              "</tr>\n",
              "<tr>\n",
              "  <th>Method:</th>                 <td>MLE</td>       <th>  Df Model:          </th>  <td>    14</td> \n",
              "</tr>\n",
              "<tr>\n",
              "  <th>Date:</th>            <td>Thu, 18 Jun 2020</td> <th>  Pseudo R-squ.:     </th>  <td>0.1774</td> \n",
              "</tr>\n",
              "<tr>\n",
              "  <th>Time:</th>                <td>17:18:58</td>     <th>  Log-Likelihood:    </th> <td> -3587.4</td>\n",
              "</tr>\n",
              "<tr>\n",
              "  <th>converged:</th>             <td>True</td>       <th>  LL-Null:           </th> <td> -4361.2</td>\n",
              "</tr>\n",
              "<tr>\n",
              "  <th>Covariance Type:</th>     <td>nonrobust</td>    <th>  LLR p-value:       </th>  <td> 0.000</td> \n",
              "</tr>\n",
              "</table>\n",
              "<table class=\"simpletable\">\n",
              "<tr>\n",
              "    <td></td>      <th>coef</th>     <th>std err</th>      <th>z</th>      <th>P>|z|</th>  <th>[0.025</th>    <th>0.975]</th>  \n",
              "</tr>\n",
              "<tr>\n",
              "  <th>X_1</th>  <td>    0.7730</td> <td>    0.235</td> <td>    3.284</td> <td> 0.001</td> <td>    0.312</td> <td>    1.234</td>\n",
              "</tr>\n",
              "<tr>\n",
              "  <th>X_2</th>  <td>   -2.9787</td> <td>    1.648</td> <td>   -1.808</td> <td> 0.071</td> <td>   -6.208</td> <td>    0.251</td>\n",
              "</tr>\n",
              "<tr>\n",
              "  <th>X_3</th>  <td>    2.9613</td> <td>    1.665</td> <td>    1.778</td> <td> 0.075</td> <td>   -0.302</td> <td>    6.225</td>\n",
              "</tr>\n",
              "<tr>\n",
              "  <th>X_4</th>  <td>    0.2226</td> <td>    0.140</td> <td>    1.587</td> <td> 0.112</td> <td>   -0.052</td> <td>    0.497</td>\n",
              "</tr>\n",
              "<tr>\n",
              "  <th>X_5</th>  <td>    0.0871</td> <td>    0.104</td> <td>    0.837</td> <td> 0.402</td> <td>   -0.117</td> <td>    0.291</td>\n",
              "</tr>\n",
              "<tr>\n",
              "  <th>X_6</th>  <td>    0.3476</td> <td>    0.199</td> <td>    1.743</td> <td> 0.081</td> <td>   -0.043</td> <td>    0.739</td>\n",
              "</tr>\n",
              "<tr>\n",
              "  <th>X_7</th>  <td>   -0.2999</td> <td>    0.227</td> <td>   -1.321</td> <td> 0.187</td> <td>   -0.745</td> <td>    0.145</td>\n",
              "</tr>\n",
              "<tr>\n",
              "  <th>X_8</th>  <td>    0.5628</td> <td>    2.433</td> <td>    0.231</td> <td> 0.817</td> <td>   -4.205</td> <td>    5.331</td>\n",
              "</tr>\n",
              "<tr>\n",
              "  <th>X_9</th>  <td>    0.7776</td> <td>    0.123</td> <td>    6.323</td> <td> 0.000</td> <td>    0.537</td> <td>    1.019</td>\n",
              "</tr>\n",
              "<tr>\n",
              "  <th>X_10</th> <td> -154.8683</td> <td>    5.076</td> <td>  -30.513</td> <td> 0.000</td> <td> -164.816</td> <td> -144.920</td>\n",
              "</tr>\n",
              "<tr>\n",
              "  <th>X_11</th> <td>    1.6623</td> <td>    0.114</td> <td>   14.635</td> <td> 0.000</td> <td>    1.440</td> <td>    1.885</td>\n",
              "</tr>\n",
              "<tr>\n",
              "  <th>X_12</th> <td>   96.5326</td> <td>    4.630</td> <td>   20.849</td> <td> 0.000</td> <td>   87.458</td> <td>  105.607</td>\n",
              "</tr>\n",
              "<tr>\n",
              "  <th>X_13</th> <td>    0.3683</td> <td>    0.121</td> <td>    3.050</td> <td> 0.002</td> <td>    0.132</td> <td>    0.605</td>\n",
              "</tr>\n",
              "<tr>\n",
              "  <th>X_14</th> <td>    0.2492</td> <td>    0.104</td> <td>    2.401</td> <td> 0.016</td> <td>    0.046</td> <td>    0.453</td>\n",
              "</tr>\n",
              "<tr>\n",
              "  <th>X_15</th> <td>    0.9628</td> <td>    0.128</td> <td>    7.542</td> <td> 0.000</td> <td>    0.713</td> <td>    1.213</td>\n",
              "</tr>\n",
              "</table>"
            ],
            "text/plain": [
              "<class 'statsmodels.iolib.summary.Summary'>\n",
              "\"\"\"\n",
              "                           Logit Regression Results                           \n",
              "==============================================================================\n",
              "Dep. Variable:       MULTIPLE_OFFENSE   No. Observations:                23856\n",
              "Model:                          Logit   Df Residuals:                    23841\n",
              "Method:                           MLE   Df Model:                           14\n",
              "Date:                Thu, 18 Jun 2020   Pseudo R-squ.:                  0.1774\n",
              "Time:                        17:18:58   Log-Likelihood:                -3587.4\n",
              "converged:                       True   LL-Null:                       -4361.2\n",
              "Covariance Type:            nonrobust   LLR p-value:                     0.000\n",
              "==============================================================================\n",
              "                 coef    std err          z      P>|z|      [0.025      0.975]\n",
              "------------------------------------------------------------------------------\n",
              "X_1            0.7730      0.235      3.284      0.001       0.312       1.234\n",
              "X_2           -2.9787      1.648     -1.808      0.071      -6.208       0.251\n",
              "X_3            2.9613      1.665      1.778      0.075      -0.302       6.225\n",
              "X_4            0.2226      0.140      1.587      0.112      -0.052       0.497\n",
              "X_5            0.0871      0.104      0.837      0.402      -0.117       0.291\n",
              "X_6            0.3476      0.199      1.743      0.081      -0.043       0.739\n",
              "X_7           -0.2999      0.227     -1.321      0.187      -0.745       0.145\n",
              "X_8            0.5628      2.433      0.231      0.817      -4.205       5.331\n",
              "X_9            0.7776      0.123      6.323      0.000       0.537       1.019\n",
              "X_10        -154.8683      5.076    -30.513      0.000    -164.816    -144.920\n",
              "X_11           1.6623      0.114     14.635      0.000       1.440       1.885\n",
              "X_12          96.5326      4.630     20.849      0.000      87.458     105.607\n",
              "X_13           0.3683      0.121      3.050      0.002       0.132       0.605\n",
              "X_14           0.2492      0.104      2.401      0.016       0.046       0.453\n",
              "X_15           0.9628      0.128      7.542      0.000       0.713       1.213\n",
              "==============================================================================\n",
              "\"\"\""
            ]
          },
          "metadata": {
            "tags": []
          },
          "execution_count": 57
        }
      ]
    },
    {
      "cell_type": "code",
      "metadata": {
        "id": "22B9EdyBEiOx",
        "colab_type": "code",
        "colab": {}
      },
      "source": [
        "import random\n",
        "\n",
        "x = data[continuous_features]\n",
        "\n",
        "\n",
        "\n",
        "y = data.iloc[:, -1]\n",
        "class_names = data.MULTIPLE_OFFENSE\n",
        "\n",
        "\n",
        "random.seed(100)\n",
        "from sklearn.model_selection import train_test_split\n",
        "x_train, x_test, y_train, y_test = train_test_split(x, y, test_size = 0.3, random_state = 5)"
      ],
      "execution_count": 58,
      "outputs": []
    },
    {
      "cell_type": "code",
      "metadata": {
        "id": "PW7RWZx4HNrv",
        "colab_type": "code",
        "colab": {
          "base_uri": "https://localhost:8080/",
          "height": 111
        },
        "outputId": "70fd32fc-689b-47a5-f9c5-3005876fe186"
      },
      "source": [
        "x.head(2)"
      ],
      "execution_count": 59,
      "outputs": [
        {
          "output_type": "execute_result",
          "data": {
            "text/html": [
              "<div>\n",
              "<style scoped>\n",
              "    .dataframe tbody tr th:only-of-type {\n",
              "        vertical-align: middle;\n",
              "    }\n",
              "\n",
              "    .dataframe tbody tr th {\n",
              "        vertical-align: top;\n",
              "    }\n",
              "\n",
              "    .dataframe thead th {\n",
              "        text-align: right;\n",
              "    }\n",
              "</style>\n",
              "<table border=\"1\" class=\"dataframe\">\n",
              "  <thead>\n",
              "    <tr style=\"text-align: right;\">\n",
              "      <th></th>\n",
              "      <th>X_1</th>\n",
              "      <th>X_2</th>\n",
              "      <th>X_3</th>\n",
              "      <th>X_4</th>\n",
              "      <th>X_5</th>\n",
              "      <th>X_6</th>\n",
              "      <th>X_7</th>\n",
              "      <th>X_9</th>\n",
              "      <th>X_10</th>\n",
              "      <th>X_11</th>\n",
              "      <th>X_12</th>\n",
              "      <th>X_13</th>\n",
              "      <th>X_14</th>\n",
              "      <th>X_15</th>\n",
              "    </tr>\n",
              "  </thead>\n",
              "  <tbody>\n",
              "    <tr>\n",
              "      <th>0</th>\n",
              "      <td>0.000000</td>\n",
              "      <td>0.692308</td>\n",
              "      <td>0.653846</td>\n",
              "      <td>0.2</td>\n",
              "      <td>0.2</td>\n",
              "      <td>0.222222</td>\n",
              "      <td>0.333333</td>\n",
              "      <td>1.0</td>\n",
              "      <td>0.0</td>\n",
              "      <td>0.524096</td>\n",
              "      <td>0.011111</td>\n",
              "      <td>0.793103</td>\n",
              "      <td>0.204225</td>\n",
              "      <td>0.72</td>\n",
              "    </tr>\n",
              "    <tr>\n",
              "      <th>1</th>\n",
              "      <td>0.142857</td>\n",
              "      <td>0.711538</td>\n",
              "      <td>0.711538</td>\n",
              "      <td>0.0</td>\n",
              "      <td>0.0</td>\n",
              "      <td>0.555556</td>\n",
              "      <td>0.944444</td>\n",
              "      <td>1.0</td>\n",
              "      <td>0.0</td>\n",
              "      <td>0.710843</td>\n",
              "      <td>0.011111</td>\n",
              "      <td>0.887931</td>\n",
              "      <td>1.000000</td>\n",
              "      <td>0.68</td>\n",
              "    </tr>\n",
              "  </tbody>\n",
              "</table>\n",
              "</div>"
            ],
            "text/plain": [
              "        X_1       X_2       X_3  X_4  ...      X_12      X_13      X_14  X_15\n",
              "0  0.000000  0.692308  0.653846  0.2  ...  0.011111  0.793103  0.204225  0.72\n",
              "1  0.142857  0.711538  0.711538  0.0  ...  0.011111  0.887931  1.000000  0.68\n",
              "\n",
              "[2 rows x 14 columns]"
            ]
          },
          "metadata": {
            "tags": []
          },
          "execution_count": 59
        }
      ]
    },
    {
      "cell_type": "code",
      "metadata": {
        "id": "smiHijR8KmPH",
        "colab_type": "code",
        "colab": {
          "base_uri": "https://localhost:8080/",
          "height": 231
        },
        "outputId": "dcf88fcc-a89d-4429-fd71-68290302dd38"
      },
      "source": [
        "from sklearn.linear_model import LogisticRegression\n",
        "from sklearn.metrics import log_loss\n",
        "!pip install joblib\n",
        "# Logistic Regression Model\n",
        "classifierLR = LogisticRegression()\n",
        "classifierLR.fit(x_train,y_train)\n",
        "classifierLR.score(x_test, y_test)\n",
        "print('LogisticRegression LogLoss {score}'.format(score=log_loss(y_test, classifierLR.predict_proba(x_test))))\n",
        "joblib.dump(classifierLR, \"CHD_LogisticRegression.pkl\")\n"
      ],
      "execution_count": 60,
      "outputs": [
        {
          "output_type": "stream",
          "text": [
            "Requirement already satisfied: joblib in /usr/local/lib/python3.6/dist-packages (0.15.1)\n",
            "LogisticRegression LogLoss 0.17154772490092005\n"
          ],
          "name": "stdout"
        },
        {
          "output_type": "error",
          "ename": "NameError",
          "evalue": "ignored",
          "traceback": [
            "\u001b[0;31m---------------------------------------------------------------------------\u001b[0m",
            "\u001b[0;31mNameError\u001b[0m                                 Traceback (most recent call last)",
            "\u001b[0;32m<ipython-input-60-cb9936a27e4b>\u001b[0m in \u001b[0;36m<module>\u001b[0;34m()\u001b[0m\n\u001b[1;32m      7\u001b[0m \u001b[0mclassifierLR\u001b[0m\u001b[0;34m.\u001b[0m\u001b[0mscore\u001b[0m\u001b[0;34m(\u001b[0m\u001b[0mx_test\u001b[0m\u001b[0;34m,\u001b[0m \u001b[0my_test\u001b[0m\u001b[0;34m)\u001b[0m\u001b[0;34m\u001b[0m\u001b[0;34m\u001b[0m\u001b[0m\n\u001b[1;32m      8\u001b[0m \u001b[0mprint\u001b[0m\u001b[0;34m(\u001b[0m\u001b[0;34m'LogisticRegression LogLoss {score}'\u001b[0m\u001b[0;34m.\u001b[0m\u001b[0mformat\u001b[0m\u001b[0;34m(\u001b[0m\u001b[0mscore\u001b[0m\u001b[0;34m=\u001b[0m\u001b[0mlog_loss\u001b[0m\u001b[0;34m(\u001b[0m\u001b[0my_test\u001b[0m\u001b[0;34m,\u001b[0m \u001b[0mclassifierLR\u001b[0m\u001b[0;34m.\u001b[0m\u001b[0mpredict_proba\u001b[0m\u001b[0;34m(\u001b[0m\u001b[0mx_test\u001b[0m\u001b[0;34m)\u001b[0m\u001b[0;34m)\u001b[0m\u001b[0;34m)\u001b[0m\u001b[0;34m)\u001b[0m\u001b[0;34m\u001b[0m\u001b[0;34m\u001b[0m\u001b[0m\n\u001b[0;32m----> 9\u001b[0;31m \u001b[0mjoblib\u001b[0m\u001b[0;34m.\u001b[0m\u001b[0mdump\u001b[0m\u001b[0;34m(\u001b[0m\u001b[0mclassifierLR\u001b[0m\u001b[0;34m,\u001b[0m \u001b[0;34m\"CHD_LogisticRegression.pkl\"\u001b[0m\u001b[0;34m)\u001b[0m\u001b[0;34m\u001b[0m\u001b[0;34m\u001b[0m\u001b[0m\n\u001b[0m",
            "\u001b[0;31mNameError\u001b[0m: name 'joblib' is not defined"
          ]
        }
      ]
    },
    {
      "cell_type": "code",
      "metadata": {
        "id": "c3Z3k6MhNgu1",
        "colab_type": "code",
        "colab": {
          "base_uri": "https://localhost:8080/",
          "height": 313
        },
        "outputId": "da92f04d-4699-4dc3-d2e9-d9c4bc38f657"
      },
      "source": [
        "from sklearn.metrics import plot_confusion_matrix\n",
        "disp = plot_confusion_matrix(classifierLR, x_test, y_test,\n",
        "                                 display_labels=class_names,\n",
        "                                 cmap=plt.cm.Blues)\n",
        "print(disp.confusion_matrix)\n"
      ],
      "execution_count": 61,
      "outputs": [
        {
          "output_type": "stream",
          "text": [
            "[[   0  318]\n",
            " [   1 6838]]\n"
          ],
          "name": "stdout"
        },
        {
          "output_type": "display_data",
          "data": {
            "image/png": "[encoded data removed]",
            "text/plain": [
              "<Figure size 432x288 with 2 Axes>"
            ]
          },
          "metadata": {
            "tags": [],
            "needs_background": "light"
          }
        }
      ]
    },
    {
      "cell_type": "code",
      "metadata": {
        "id": "fbIi2_vH525t",
        "colab_type": "code",
        "colab": {}
      },
      "source": [
        "from sklearn.linear_model import LogisticRegression\n",
        "logmodel = LogisticRegression()\n",
        "logmodel.fit(x_train,y_train)\n",
        "text_s = data1[continuous_features]\n",
        "predictions = logmodel.predict(text_s)\n"
      ],
      "execution_count": 62,
      "outputs": []
    },
    {
      "cell_type": "code",
      "metadata": {
        "id": "DFsC70RG_d9Z",
        "colab_type": "code",
        "colab": {
          "base_uri": "https://localhost:8080/",
          "height": 34
        },
        "outputId": "f069521a-a9b7-4393-8aa5-10486a8fd6a4"
      },
      "source": [
        "print(predictions)"
      ],
      "execution_count": 63,
      "outputs": [
        {
          "output_type": "stream",
          "text": [
            "[1 1 1 ... 0 1 1]\n"
          ],
          "name": "stdout"
        }
      ]
    },
    {
      "cell_type": "code",
      "metadata": {
        "id": "pWZwIKj9ZQWs",
        "colab_type": "code",
        "colab": {}
      },
      "source": [
        "data1['predictions'] = predictions\n",
        "data1.to_csv('data1.csv')"
      ],
      "execution_count": 64,
      "outputs": []
    },
    {
      "cell_type": "code",
      "metadata": {
        "id": "exWxO-rTaPHX",
        "colab_type": "code",
        "colab": {
          "base_uri": "https://localhost:8080/",
          "height": 111
        },
        "outputId": "10d515e8-1da0-40cf-8c5d-ecb098980f50"
      },
      "source": [
        "data1.head(2)"
      ],
      "execution_count": 65,
      "outputs": [
        {
          "output_type": "execute_result",
          "data": {
            "text/html": [
              "<div>\n",
              "<style scoped>\n",
              "    .dataframe tbody tr th:only-of-type {\n",
              "        vertical-align: middle;\n",
              "    }\n",
              "\n",
              "    .dataframe tbody tr th {\n",
              "        vertical-align: top;\n",
              "    }\n",
              "\n",
              "    .dataframe thead th {\n",
              "        text-align: right;\n",
              "    }\n",
              "</style>\n",
              "<table border=\"1\" class=\"dataframe\">\n",
              "  <thead>\n",
              "    <tr style=\"text-align: right;\">\n",
              "      <th></th>\n",
              "      <th>INCIDENT_ID</th>\n",
              "      <th>DATE</th>\n",
              "      <th>X_1</th>\n",
              "      <th>X_2</th>\n",
              "      <th>X_3</th>\n",
              "      <th>X_4</th>\n",
              "      <th>X_5</th>\n",
              "      <th>X_6</th>\n",
              "      <th>X_7</th>\n",
              "      <th>X_8</th>\n",
              "      <th>X_9</th>\n",
              "      <th>X_10</th>\n",
              "      <th>X_11</th>\n",
              "      <th>X_12</th>\n",
              "      <th>X_13</th>\n",
              "      <th>X_14</th>\n",
              "      <th>X_15</th>\n",
              "      <th>predictions</th>\n",
              "    </tr>\n",
              "  </thead>\n",
              "  <tbody>\n",
              "    <tr>\n",
              "      <th>0</th>\n",
              "      <td>CR_195453</td>\n",
              "      <td>01-FEB-18</td>\n",
              "      <td>0</td>\n",
              "      <td>30</td>\n",
              "      <td>35</td>\n",
              "      <td>7</td>\n",
              "      <td>3</td>\n",
              "      <td>6</td>\n",
              "      <td>4</td>\n",
              "      <td>0</td>\n",
              "      <td>5</td>\n",
              "      <td>1</td>\n",
              "      <td>174</td>\n",
              "      <td>1.0</td>\n",
              "      <td>72</td>\n",
              "      <td>119</td>\n",
              "      <td>23</td>\n",
              "      <td>1</td>\n",
              "    </tr>\n",
              "    <tr>\n",
              "      <th>1</th>\n",
              "      <td>CR_103520</td>\n",
              "      <td>05-MAR-04</td>\n",
              "      <td>0</td>\n",
              "      <td>44</td>\n",
              "      <td>44</td>\n",
              "      <td>1</td>\n",
              "      <td>3</td>\n",
              "      <td>7</td>\n",
              "      <td>1</td>\n",
              "      <td>4</td>\n",
              "      <td>6</td>\n",
              "      <td>1</td>\n",
              "      <td>316</td>\n",
              "      <td>0.0</td>\n",
              "      <td>12</td>\n",
              "      <td>29</td>\n",
              "      <td>34</td>\n",
              "      <td>1</td>\n",
              "    </tr>\n",
              "  </tbody>\n",
              "</table>\n",
              "</div>"
            ],
            "text/plain": [
              "  INCIDENT_ID       DATE  X_1  X_2  X_3  ...  X_12  X_13  X_14  X_15  predictions\n",
              "0   CR_195453  01-FEB-18    0   30   35  ...   1.0    72   119    23            1\n",
              "1   CR_103520  05-MAR-04    0   44   44  ...   0.0    12    29    34            1\n",
              "\n",
              "[2 rows x 18 columns]"
            ]
          },
          "metadata": {
            "tags": []
          },
          "execution_count": 65
        }
      ]
    },
    {
      "cell_type": "code",
      "metadata": {
        "id": "QpQBvY6ialaU",
        "colab_type": "code",
        "colab": {}
      },
      "source": [
        "data1=data1.drop(columns=[\"X_1\",\"DATE\", \"X_2\", \"X_3\", \"X_4\", \"X_5\", \"X_6\", \"X_7\", \"X_8\",\"X_9\",\"X_10\",\"X_11\",\"X_12\",\"X_13\",\"X_14\",\"X_15\"],axis=1)"
      ],
      "execution_count": 66,
      "outputs": []
    },
    {
      "cell_type": "code",
      "metadata": {
        "id": "z7iRcsavccEb",
        "colab_type": "code",
        "colab": {
          "base_uri": "https://localhost:8080/",
          "height": 111
        },
        "outputId": "ef1aff8e-e1b4-462b-80ee-c988aa410545"
      },
      "source": [
        "data1.head(2)"
      ],
      "execution_count": 67,
      "outputs": [
        {
          "output_type": "execute_result",
          "data": {
            "text/html": [
              "<div>\n",
              "<style scoped>\n",
              "    .dataframe tbody tr th:only-of-type {\n",
              "        vertical-align: middle;\n",
              "    }\n",
              "\n",
              "    .dataframe tbody tr th {\n",
              "        vertical-align: top;\n",
              "    }\n",
              "\n",
              "    .dataframe thead th {\n",
              "        text-align: right;\n",
              "    }\n",
              "</style>\n",
              "<table border=\"1\" class=\"dataframe\">\n",
              "  <thead>\n",
              "    <tr style=\"text-align: right;\">\n",
              "      <th></th>\n",
              "      <th>INCIDENT_ID</th>\n",
              "      <th>predictions</th>\n",
              "    </tr>\n",
              "  </thead>\n",
              "  <tbody>\n",
              "    <tr>\n",
              "      <th>0</th>\n",
              "      <td>CR_195453</td>\n",
              "      <td>1</td>\n",
              "    </tr>\n",
              "    <tr>\n",
              "      <th>1</th>\n",
              "      <td>CR_103520</td>\n",
              "      <td>1</td>\n",
              "    </tr>\n",
              "  </tbody>\n",
              "</table>\n",
              "</div>"
            ],
            "text/plain": [
              "  INCIDENT_ID  predictions\n",
              "0   CR_195453            1\n",
              "1   CR_103520            1"
            ]
          },
          "metadata": {
            "tags": []
          },
          "execution_count": 67
        }
      ]
    },
    {
      "cell_type": "code",
      "metadata": {
        "id": "kA1vN-JBcmPm",
        "colab_type": "code",
        "colab": {}
      },
      "source": [
        "data1 = data1.rename(columns={'predictions': 'MULTIPLE_OFFENSE'})"
      ],
      "execution_count": 68,
      "outputs": []
    },
    {
      "cell_type": "code",
      "metadata": {
        "id": "6oLc3Uroc4oH",
        "colab_type": "code",
        "colab": {
          "base_uri": "https://localhost:8080/",
          "height": 111
        },
        "outputId": "1405f057-e4ce-4515-8518-cb86b1fb9433"
      },
      "source": [
        "data1.head(2)"
      ],
      "execution_count": 71,
      "outputs": [
        {
          "output_type": "execute_result",
          "data": {
            "text/html": [
              "<div>\n",
              "<style scoped>\n",
              "    .dataframe tbody tr th:only-of-type {\n",
              "        vertical-align: middle;\n",
              "    }\n",
              "\n",
              "    .dataframe tbody tr th {\n",
              "        vertical-align: top;\n",
              "    }\n",
              "\n",
              "    .dataframe thead th {\n",
              "        text-align: right;\n",
              "    }\n",
              "</style>\n",
              "<table border=\"1\" class=\"dataframe\">\n",
              "  <thead>\n",
              "    <tr style=\"text-align: right;\">\n",
              "      <th></th>\n",
              "      <th>INCIDENT_ID</th>\n",
              "      <th>MULTIPLE_OFFENSE</th>\n",
              "    </tr>\n",
              "  </thead>\n",
              "  <tbody>\n",
              "    <tr>\n",
              "      <th>0</th>\n",
              "      <td>CR_195453</td>\n",
              "      <td>1</td>\n",
              "    </tr>\n",
              "    <tr>\n",
              "      <th>1</th>\n",
              "      <td>CR_103520</td>\n",
              "      <td>1</td>\n",
              "    </tr>\n",
              "  </tbody>\n",
              "</table>\n",
              "</div>"
            ],
            "text/plain": [
              "  INCIDENT_ID  MULTIPLE_OFFENSE\n",
              "0   CR_195453                 1\n",
              "1   CR_103520                 1"
            ]
          },
          "metadata": {
            "tags": []
          },
          "execution_count": 71
        }
      ]
    },
    {
      "cell_type": "code",
      "metadata": {
        "id": "MViTfl-4ecic",
        "colab_type": "code",
        "colab": {}
      },
      "source": [
        "data1.to_csv(r'/content/drive/My Drive/Novartis_data/submission.csv')\n"
      ],
      "execution_count": 81,
      "outputs": []
    }
  ]
}